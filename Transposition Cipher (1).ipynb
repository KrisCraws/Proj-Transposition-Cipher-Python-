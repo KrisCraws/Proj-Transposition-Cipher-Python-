{
 "cells": [
  {
   "cell_type": "markdown",
   "id": "fc1b63ae",
   "metadata": {},
   "source": [
    "# Create the TranspositionCipher class"
   ]
  },
  {
   "cell_type": "code",
   "execution_count": 137,
   "id": "24484932",
   "metadata": {},
   "outputs": [],
   "source": [
    "import math\n",
    "import numpy as np\n",
    "\n",
    "class TranspositionCipher_old(): \n",
    "        \n",
    "    def __init__(self, message, key_columns):\n",
    "        self.message = message\n",
    "        self.key_columns = key_columns\n",
    "        \n",
    "    def encrypt_message(self):\n",
    "        # Initializes lists to hold the chars of the string and the grid\n",
    "        char_list = []\n",
    "        grid = []\n",
    "        \n",
    "        for char in self.message.rstrip():\n",
    "            char_list.append(char)\n",
    "\n",
    "        while len(char_list) % self.key_columns != 0:\n",
    "            char_list.append(' ')\n",
    "\n",
    "        length_of_list = math.ceil(len(char_list) / self.key_columns)\n",
    "        \n",
    "        for i in range(0, length_of_list):\n",
    "            grid.append(char_list[:self.key_columns])\n",
    "            del char_list[:self.key_columns]\n",
    "\n",
    "        x = np.array(grid)\n",
    "        \n",
    "        for i in x.T.ravel():\n",
    "            print(i, end='')\n",
    "    \n",
    "    def decrypt_message(self):\n",
    "        # Determine the number of rows\n",
    "        num_rows = math.ceil(len(encrypted_message) / self.key_columns)\n",
    "\n",
    "        # Create an empty grid with the correct number of rows and columns\n",
    "        grid = [[''] * self.key_columns for _ in range(num_rows)]\n",
    "        \n",
    "        # Fill the grid column by column from the encrypted message\n",
    "        index = 0\n",
    "        for col in range(self.key_columns):\n",
    "            for row in range(num_rows):\n",
    "                if index < len(encrypted_message):\n",
    "                    grid[row][col] = encrypted_message[index]\n",
    "                    index += 1\n",
    "\n",
    "        # Flatten the grid back to the original message order\n",
    "        decrypted_message = ''.join([''.join(row) for row in grid])\n",
    "        return decrypted_message.rstrip()\n"
   ]
  },
  {
   "cell_type": "code",
   "execution_count": 199,
   "id": "86356d41-c884-4e2a-b670-894822f6163c",
   "metadata": {},
   "outputs": [],
   "source": [
    "#### ORIGINAL TEMPLATE FROM 365 Project\n",
    "class TranspositionCipher(object): \n",
    "        \n",
    "    def __init__(self, key):\n",
    "        self.key = key\n",
    "        \n",
    "    def encrypt_message(self, message):\n",
    "        self.message = message\n",
    "\n",
    "        # Initializes lists to hold the chars of the string and the grid\n",
    "        char_list = []\n",
    "        grid = []\n",
    "        \n",
    "        for char in self.message.rstrip():\n",
    "            char_list.append(char)\n",
    "\n",
    "        while len(char_list) % self.key != 0:\n",
    "            char_list.append(' ')\n",
    "\n",
    "        length_of_list = math.ceil(len(char_list) / self.key)\n",
    "        \n",
    "        for i in range(0, length_of_list):\n",
    "            grid.append(char_list[:self.key])\n",
    "            del char_list[:self.key]\n",
    "\n",
    "        x = np.array(grid)\n",
    "        \n",
    "        # Generate the encrypted message by reading the transposed characters\n",
    "        encrypted_message = ''.join(x.T.ravel())\n",
    "        return encrypted_message\n",
    "    \n",
    "    def decrypt_message(self, message):\n",
    "        self.message = message\n",
    "\n",
    "        # Determine the number of rows\n",
    "        num_rows = math.ceil(len(self.message) / self.key)\n",
    "\n",
    "        # Create an empty grid with the correct number of rows and columns\n",
    "        grid = [[''] * self.key for _ in range(num_rows)]\n",
    "        \n",
    "        # Fill the grid column by column from the encrypted message\n",
    "        index = 0\n",
    "        for col in range(self.key):\n",
    "            for row in range(num_rows):\n",
    "                if index < len(self.message):\n",
    "                    grid[row][col] = self.message[index]\n",
    "                    index += 1\n",
    "\n",
    "        # Flatten the grid back to the original message order\n",
    "        decrypted_message = ''.join([''.join(row) for row in grid])\n",
    "        return decrypted_message.rstrip()"
   ]
  },
  {
   "cell_type": "code",
   "execution_count": 201,
   "id": "004c4b8a-2aba-4bfc-bfea-4460569c1a7a",
   "metadata": {},
   "outputs": [
    {
     "data": {
      "text/plain": [
       "\"it's supelcalifragiaisticexpi_lidociousgeven thounh the sousd of it ig somethinr quite at ocious_iftyou say iu loud eno gh you'llualways soind precoccous_superialifragillsticexpiaidociousr\""
      ]
     },
     "execution_count": 201,
     "metadata": {},
     "output_type": "execute_result"
    }
   ],
   "source": [
    "Test_Cipher = TranspositionCipher(10)\n",
    "message_to_decrypt = \"icilehd  oy ganoasitasiv  sqcolhldultd'ltdetoouiuo w siiosiionhfmio uyap\\nfcc fcc e etusdoyrsreisreit itesa useuaxouaxohsth \\nye' cpgpupgpuoo iai nlsoeiiseiisuuintfiolocrlarla\\ngnsgr tu uicil\"\n",
    "message_to_decrypt = message_to_decrypt.replace('\\n', '_')\n",
    "Test_Cipher.decrypt_message(message_to_decrypt)"
   ]
  },
  {
   "cell_type": "markdown",
   "id": "addc9042",
   "metadata": {},
   "source": [
    "# Test the code by encrypting and decrypting a message"
   ]
  },
  {
   "cell_type": "code",
   "execution_count": 203,
   "id": "e12494e3-ceca-48d0-95ba-0151ff3141ca",
   "metadata": {},
   "outputs": [
    {
     "data": {
      "text/plain": [
       "'Ishrhpt e lhoice  fy\\nt doeoiee etdg so eene seduahmralerchdhh  b h larnxnhsh,lwhmw etdc ssdsree   ’e  eidmyweumnw cti e iho hwne.oae dso. tids\\nst meo h seeahi sh dtittealr nt aeeu whno whhwsevtit.sdrita ahrtc hnsye f w rdgTar cvhoaaepehco   dsenedayehfe  \\ns etos \\nhhsittoiwtslldahlHlf\\n mdy r\\nr rmhkit '"
      ]
     },
     "execution_count": 203,
     "metadata": {},
     "output_type": "execute_result"
    }
   ],
   "source": [
    "test_cipher = TranspositionCipher(7)\n",
    "message_to_encrypt = '''I confess at these words a shudder passed\n",
    "through me. There was a thrill in the doctor’s voice\n",
    "which showed that he was himself deeply moved\n",
    "by that which he told us. Holmes leaned forward\n",
    "in his excitement and his eyes had the hard, dry\n",
    "glitter which shot from them when he was keenly\n",
    "interested.'''\n",
    "test_cipher.encrypt_message(message_to_encrypt)"
   ]
  },
  {
   "cell_type": "code",
   "execution_count": 209,
   "id": "a2589c1f-e0e0-4b8c-b477-4823aabd97bc",
   "metadata": {},
   "outputs": [
    {
     "data": {
      "text/plain": [
       "'physicists are made of atoms. a physicist is an attempt by an atom to understand itself.'"
      ]
     },
     "execution_count": 209,
     "metadata": {},
     "output_type": "execute_result"
    }
   ],
   "source": [
    "michio_kaku_quotes = TranspositionCipher(8)\n",
    "test_1 = 't a isn r usy   eo meoe  eoryehbiwg ltepn,eiit scpxbcit l smernehoyheod ttshmtol jtnhsast.'\n",
    "test_2 = 'iosertonethmseasdeaihirn cninme,ayeox;ao  n   rsest sedm en v sti tvtpeatss  tiop  es sgid  sw ehltnht tdoofaat.'\n",
    "test_3 = 'ptatptabod hsdoh tymeiy emyit  rtsa ssseatssiro.i mnotecef cap  ali  aintaunfsma s  tnd.'\n",
    "test_4 = 'ttpo imm,eedaayoaritbep  c nws nenhlsoytiudsiudctee sooan  cn i   tsu tdtosdtswpbhi aeehf.ehehoeebhp re re esc lapas ps pnsoievrntlh'\n",
    "michio_kaku_quotes.decrypt_message(test_3)"
   ]
  },
  {
   "cell_type": "code",
   "execution_count": 267,
   "id": "0b4f24a6-e0f9-4f1d-9084-80c56a291610",
   "metadata": {},
   "outputs": [
    {
     "data": {
      "text/plain": [
       "'ava em lbhsastt.r,nyiea n iva oeekhbe h  n rdaeamtfnelyae r  ataoyeen itooeg ldadyrtrutfe  r hor w aayisisusr.  ren'"
      ]
     },
     "execution_count": 267,
     "metadata": {},
     "output_type": "execute_result"
    }
   ],
   "source": [
    "fredrik_backman_quotes = TranspositionCipher(12)\n",
    "test_1 = \"npomhhe eeneea rvo'titbeepthr earl i tys ehnlhoot agiennrwv vyd.uheie  so nslat s  ol dottvl\"\n",
    "test_2 = 'naoensioanosprg tnl til  tieleheedthc yfir ohaiw fn w enzhmogfham eoar oonst  ktir yeosae.s ntl ocs pehvcmt eeviereua'\n",
    "test_3 = 'tto at   heubl catedtaimati   dkon mctg es teohop tbh.mioei eepndoso  lg p fbsi alt oacanehutmabd ashe'\n",
    "test_4 = 'asnem trhivt  taotosatihftorru .v naeu sera eogtwrm, nly f . no yelea lyeraed a biedena yrheka  driesaheriy sna ba '\n",
    "fredrik_backman_quotes.decrypt_message(test_4)"
   ]
  },
  {
   "cell_type": "markdown",
   "id": "2c4e8503",
   "metadata": {},
   "source": [
    "# Hack the transposition cipher (optional)"
   ]
  },
  {
   "cell_type": "code",
   "execution_count": null,
   "id": "54134ab4",
   "metadata": {},
   "outputs": [],
   "source": [
    "def hack_cipher(message_enc):\n",
    "    pass"
   ]
  },
  {
   "cell_type": "markdown",
   "id": "7c4774c1-52ca-4306-82bf-db243a65f4b9",
   "metadata": {},
   "source": [
    "## ChatGPT"
   ]
  },
  {
   "cell_type": "code",
   "execution_count": 134,
   "id": "e81172ba-02df-4ffd-9383-8b0b185364a1",
   "metadata": {},
   "outputs": [
    {
     "name": "stdout",
     "output_type": "stream",
     "text": [
      "Encrypted message:\n",
      "Lnh egofa nurP nnyi its \n",
      "\n",
      "Decrypted message:\n",
      "Learning Python is fun\n"
     ]
    }
   ],
   "source": [
    "import math\n",
    "import numpy as np\n",
    "\n",
    "class TranspositionCipher():\n",
    "        \n",
    "    def __init__(self, key_columns):\n",
    "        self.key_columns = key_columns\n",
    "        \n",
    "    def encrypt_message(self, message):\n",
    "        # Initialize lists to hold the chars of the string and the grid\n",
    "        char_list = []\n",
    "        grid = []\n",
    "        \n",
    "        for char in message:\n",
    "            char_list.append(char)\n",
    "\n",
    "        # Pad char_list with spaces until its length is a multiple of key_columns\n",
    "        while len(char_list) % self.key_columns != 0:\n",
    "            char_list.append(' ')\n",
    "\n",
    "        length_of_list = math.ceil(len(char_list) / self.key_columns)\n",
    "        \n",
    "        # Create the grid by appending sublists of key_columns characters each\n",
    "        for i in range(length_of_list):\n",
    "            grid.append(char_list[:self.key_columns])\n",
    "            del char_list[:self.key_columns]\n",
    "\n",
    "        x = np.array(grid)\n",
    "        \n",
    "        # Generate the encrypted message by reading the transposed characters\n",
    "        encrypted_message = ''.join(x.T.ravel())\n",
    "        return encrypted_message\n",
    "    \n",
    "    def decrypt_message(self, encrypted_message):\n",
    "        # Determine the number of rows\n",
    "        num_rows = math.ceil(len(encrypted_message) / self.key_columns)\n",
    "        \n",
    "        # Create an empty grid with the correct number of rows and columns\n",
    "        grid = [[''] * self.key_columns for _ in range(num_rows)]\n",
    "        \n",
    "        # Fill the grid column by column from the encrypted message\n",
    "        index = 0\n",
    "        for col in range(self.key_columns):\n",
    "            for row in range(num_rows):\n",
    "                if index < len(encrypted_message):\n",
    "                    grid[row][col] = encrypted_message[index]\n",
    "                    index += 1\n",
    "\n",
    "        # Flatten the grid back to the original message order\n",
    "        decrypted_message = ''.join([''.join(row) for row in grid])\n",
    "        return decrypted_message.rstrip()\n",
    "\n",
    "# Create an instance of TranspositionCipher with the key\n",
    "key_columns = 6\n",
    "cipher = TranspositionCipher(key_columns)\n",
    "\n",
    "# Define the message to be encrypted\n",
    "plaintext_message = \"Learning Python is fun\"\n",
    "\n",
    "# Encrypt and print the message\n",
    "print(\"Encrypted message:\")\n",
    "encrypted_message = cipher.encrypt_message(plaintext_message)\n",
    "print(encrypted_message)\n",
    "\n",
    "# Decrypt and print the message\n",
    "print(\"\\nDecrypted message:\")\n",
    "decrypted_message = cipher.decrypt_message(encrypted_message)\n",
    "print(decrypted_message)"
   ]
  }
 ],
 "metadata": {
  "kernelspec": {
   "display_name": "Python 3 (ipykernel)",
   "language": "python",
   "name": "python3"
  },
  "language_info": {
   "codemirror_mode": {
    "name": "ipython",
    "version": 3
   },
   "file_extension": ".py",
   "mimetype": "text/x-python",
   "name": "python",
   "nbconvert_exporter": "python",
   "pygments_lexer": "ipython3",
   "version": "3.11.7"
  }
 },
 "nbformat": 4,
 "nbformat_minor": 5
}
